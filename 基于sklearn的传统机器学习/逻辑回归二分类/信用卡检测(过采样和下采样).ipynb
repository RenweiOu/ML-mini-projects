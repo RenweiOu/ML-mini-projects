{
 "cells": [
  {
   "cell_type": "markdown",
   "metadata": {},
   "source": [
    "## 信用卡欺诈检测\n",
    "\n",
    "基于信用卡交易记录数据建立分类模型来预测哪些交易记录是异常的哪些是正常的。\n",
    "\n",
    "### 任务流程：\n",
    "* 加载数据，观察数据有什么问题\n",
    "* 针对问题给出解决方案\n",
    "* 数据集切分\n",
    "* 评估方法对比\n",
    "* 逻辑回归模型\n",
    "* 建模结果分析\n",
    "* 方案效果对比\n",
    "\n",
    "### 主要解决问题：\n",
    "（1）在此项目中，我们首选对数据进行了观察，发现了其中样本不均衡的问题，其实我们做任务工作之前都一定要先进行数据检查，看看数据有什么问题，针对这些问题来选择解决方案。\n",
    "\n",
    "（2）这里我们提出了两种方法，下采样和过采样，两条路线来进行对比实验，任何实际问题来了之后，我们都不会一条路走到黑的，没有对比就没有伤害，通常都会得到一个基础模型，然后对各种方法进行对比，找到最合适的，所以在任务开始之前，一定得多动脑筋多一手准备，得到的结果才有可选择的余地。\n",
    "\n",
    "（3）在建模之前，需要对数据进行各种预处理的操作，比如数据标准化，缺失值填充等，这些都是必要操作，由于数据本身已经给定了特征，此处我们还没有提到特征工程这个概念，后续实战中我们会逐步引入，其实数据预处理的工作是整个任务中最为最重也是最苦的一个阶段，数据处理的好不好对结果的影响是最大的。\n",
    "\n",
    "（4）先选好评估方法，再进行建模。建模的目的就是为了得到结果，但是我们不可能一次就得到最好的结果，肯定要尝试很多次，所以一定得有一个合适的评估方法，可以用这些通用的，比如Recall，准确率等，也可以根据实际问题自己指定评估指标。\n",
    "\n",
    "（5）选择合适的算法，这里我们使用的是逻辑回归，也详细分析了其中的细节，这是因为我们刚刚讲解完逻辑回归的原理就拿它来练手了，之后我们还会讲解其他算法，并不一定非要用逻辑回归来完成这个任务，其他算法可能效果会更好。但是有一点我希望大家能够理解就是在机器学习中并不是越复杂的算法越实用，恰恰相反，越简单的算法反而应用的越广泛。逻辑回归就是其中一个典型的代表了，简单实用，所以任何分类问题都可以把逻辑回归当做一个待比较的基础模型了。\n",
    "\n",
    "（6）模型的调参也是很重要的，之前我们通过实验也发现了不同的参数可能会对结果产生较大的影响，这一步也是必须的，后续实战内容我们还会来强调调参的细节，这里就简单概述一下了。对于参数我建立大家在使用工具包的时候先看看其API文档，知道每一个参数的意义，再来实验选择合适的参数值。\n",
    "\n",
    "（7）得到的结果一定要和实际任务结合在一起，有时候虽然得到的结果指标还不错，但是实际应用却成了问题，所以测试环节也是必不可少的。到此，这个项目就给大家介绍到这里了，在实践中学习才能成长的更快，建议大家一定使用提供的Notebook代码文件来自己完成一遍上述操作。"
   ]
  },
  {
   "cell_type": "markdown",
   "metadata": {},
   "source": [
    "## 导入我们的工具包"
   ]
  },
  {
   "cell_type": "code",
   "execution_count": 1,
   "metadata": {},
   "outputs": [],
   "source": [
    "import numpy as np\n",
    "import pandas as pd\n",
    "import matplotlib.pyplot as plt\n",
    "\n",
    "import warnings\n",
    "warnings.filterwarnings(\"ignore\")\n",
    "\n",
    "%matplotlib inline"
   ]
  },
  {
   "cell_type": "markdown",
   "metadata": {},
   "source": [
    "## 数据读取"
   ]
  },
  {
   "cell_type": "code",
   "execution_count": 2,
   "metadata": {},
   "outputs": [
    {
     "data": {
      "text/html": [
       "<div>\n",
       "<style scoped>\n",
       "    .dataframe tbody tr th:only-of-type {\n",
       "        vertical-align: middle;\n",
       "    }\n",
       "\n",
       "    .dataframe tbody tr th {\n",
       "        vertical-align: top;\n",
       "    }\n",
       "\n",
       "    .dataframe thead th {\n",
       "        text-align: right;\n",
       "    }\n",
       "</style>\n",
       "<table border=\"1\" class=\"dataframe\">\n",
       "  <thead>\n",
       "    <tr style=\"text-align: right;\">\n",
       "      <th></th>\n",
       "      <th>Time</th>\n",
       "      <th>V1</th>\n",
       "      <th>V2</th>\n",
       "      <th>V3</th>\n",
       "      <th>V4</th>\n",
       "      <th>V5</th>\n",
       "      <th>V6</th>\n",
       "      <th>V7</th>\n",
       "      <th>V8</th>\n",
       "      <th>V9</th>\n",
       "      <th>...</th>\n",
       "      <th>V21</th>\n",
       "      <th>V22</th>\n",
       "      <th>V23</th>\n",
       "      <th>V24</th>\n",
       "      <th>V25</th>\n",
       "      <th>V26</th>\n",
       "      <th>V27</th>\n",
       "      <th>V28</th>\n",
       "      <th>Amount</th>\n",
       "      <th>Class</th>\n",
       "    </tr>\n",
       "  </thead>\n",
       "  <tbody>\n",
       "    <tr>\n",
       "      <th>0</th>\n",
       "      <td>0.0</td>\n",
       "      <td>-1.359807</td>\n",
       "      <td>-0.072781</td>\n",
       "      <td>2.536347</td>\n",
       "      <td>1.378155</td>\n",
       "      <td>-0.338321</td>\n",
       "      <td>0.462388</td>\n",
       "      <td>0.239599</td>\n",
       "      <td>0.098698</td>\n",
       "      <td>0.363787</td>\n",
       "      <td>...</td>\n",
       "      <td>-0.018307</td>\n",
       "      <td>0.277838</td>\n",
       "      <td>-0.110474</td>\n",
       "      <td>0.066928</td>\n",
       "      <td>0.128539</td>\n",
       "      <td>-0.189115</td>\n",
       "      <td>0.133558</td>\n",
       "      <td>-0.021053</td>\n",
       "      <td>149.62</td>\n",
       "      <td>0</td>\n",
       "    </tr>\n",
       "    <tr>\n",
       "      <th>1</th>\n",
       "      <td>0.0</td>\n",
       "      <td>1.191857</td>\n",
       "      <td>0.266151</td>\n",
       "      <td>0.166480</td>\n",
       "      <td>0.448154</td>\n",
       "      <td>0.060018</td>\n",
       "      <td>-0.082361</td>\n",
       "      <td>-0.078803</td>\n",
       "      <td>0.085102</td>\n",
       "      <td>-0.255425</td>\n",
       "      <td>...</td>\n",
       "      <td>-0.225775</td>\n",
       "      <td>-0.638672</td>\n",
       "      <td>0.101288</td>\n",
       "      <td>-0.339846</td>\n",
       "      <td>0.167170</td>\n",
       "      <td>0.125895</td>\n",
       "      <td>-0.008983</td>\n",
       "      <td>0.014724</td>\n",
       "      <td>2.69</td>\n",
       "      <td>0</td>\n",
       "    </tr>\n",
       "    <tr>\n",
       "      <th>2</th>\n",
       "      <td>1.0</td>\n",
       "      <td>-1.358354</td>\n",
       "      <td>-1.340163</td>\n",
       "      <td>1.773209</td>\n",
       "      <td>0.379780</td>\n",
       "      <td>-0.503198</td>\n",
       "      <td>1.800499</td>\n",
       "      <td>0.791461</td>\n",
       "      <td>0.247676</td>\n",
       "      <td>-1.514654</td>\n",
       "      <td>...</td>\n",
       "      <td>0.247998</td>\n",
       "      <td>0.771679</td>\n",
       "      <td>0.909412</td>\n",
       "      <td>-0.689281</td>\n",
       "      <td>-0.327642</td>\n",
       "      <td>-0.139097</td>\n",
       "      <td>-0.055353</td>\n",
       "      <td>-0.059752</td>\n",
       "      <td>378.66</td>\n",
       "      <td>0</td>\n",
       "    </tr>\n",
       "    <tr>\n",
       "      <th>3</th>\n",
       "      <td>1.0</td>\n",
       "      <td>-0.966272</td>\n",
       "      <td>-0.185226</td>\n",
       "      <td>1.792993</td>\n",
       "      <td>-0.863291</td>\n",
       "      <td>-0.010309</td>\n",
       "      <td>1.247203</td>\n",
       "      <td>0.237609</td>\n",
       "      <td>0.377436</td>\n",
       "      <td>-1.387024</td>\n",
       "      <td>...</td>\n",
       "      <td>-0.108300</td>\n",
       "      <td>0.005274</td>\n",
       "      <td>-0.190321</td>\n",
       "      <td>-1.175575</td>\n",
       "      <td>0.647376</td>\n",
       "      <td>-0.221929</td>\n",
       "      <td>0.062723</td>\n",
       "      <td>0.061458</td>\n",
       "      <td>123.50</td>\n",
       "      <td>0</td>\n",
       "    </tr>\n",
       "    <tr>\n",
       "      <th>4</th>\n",
       "      <td>2.0</td>\n",
       "      <td>-1.158233</td>\n",
       "      <td>0.877737</td>\n",
       "      <td>1.548718</td>\n",
       "      <td>0.403034</td>\n",
       "      <td>-0.407193</td>\n",
       "      <td>0.095921</td>\n",
       "      <td>0.592941</td>\n",
       "      <td>-0.270533</td>\n",
       "      <td>0.817739</td>\n",
       "      <td>...</td>\n",
       "      <td>-0.009431</td>\n",
       "      <td>0.798278</td>\n",
       "      <td>-0.137458</td>\n",
       "      <td>0.141267</td>\n",
       "      <td>-0.206010</td>\n",
       "      <td>0.502292</td>\n",
       "      <td>0.219422</td>\n",
       "      <td>0.215153</td>\n",
       "      <td>69.99</td>\n",
       "      <td>0</td>\n",
       "    </tr>\n",
       "  </tbody>\n",
       "</table>\n",
       "<p>5 rows × 31 columns</p>\n",
       "</div>"
      ],
      "text/plain": [
       "   Time        V1        V2        V3        V4        V5        V6        V7  \\\n",
       "0   0.0 -1.359807 -0.072781  2.536347  1.378155 -0.338321  0.462388  0.239599   \n",
       "1   0.0  1.191857  0.266151  0.166480  0.448154  0.060018 -0.082361 -0.078803   \n",
       "2   1.0 -1.358354 -1.340163  1.773209  0.379780 -0.503198  1.800499  0.791461   \n",
       "3   1.0 -0.966272 -0.185226  1.792993 -0.863291 -0.010309  1.247203  0.237609   \n",
       "4   2.0 -1.158233  0.877737  1.548718  0.403034 -0.407193  0.095921  0.592941   \n",
       "\n",
       "         V8        V9  ...       V21       V22       V23       V24       V25  \\\n",
       "0  0.098698  0.363787  ... -0.018307  0.277838 -0.110474  0.066928  0.128539   \n",
       "1  0.085102 -0.255425  ... -0.225775 -0.638672  0.101288 -0.339846  0.167170   \n",
       "2  0.247676 -1.514654  ...  0.247998  0.771679  0.909412 -0.689281 -0.327642   \n",
       "3  0.377436 -1.387024  ... -0.108300  0.005274 -0.190321 -1.175575  0.647376   \n",
       "4 -0.270533  0.817739  ... -0.009431  0.798278 -0.137458  0.141267 -0.206010   \n",
       "\n",
       "        V26       V27       V28  Amount  Class  \n",
       "0 -0.189115  0.133558 -0.021053  149.62      0  \n",
       "1  0.125895 -0.008983  0.014724    2.69      0  \n",
       "2 -0.139097 -0.055353 -0.059752  378.66      0  \n",
       "3 -0.221929  0.062723  0.061458  123.50      0  \n",
       "4  0.502292  0.219422  0.215153   69.99      0  \n",
       "\n",
       "[5 rows x 31 columns]"
      ]
     },
     "execution_count": 2,
     "metadata": {},
     "output_type": "execute_result"
    }
   ],
   "source": [
    "data = pd.read_csv(\"creditcard.csv\")\n",
    "data.head()"
   ]
  },
  {
   "cell_type": "markdown",
   "metadata": {},
   "source": [
    "## 数据标签分布"
   ]
  },
  {
   "cell_type": "code",
   "execution_count": 3,
   "metadata": {},
   "outputs": [
    {
     "data": {
      "text/plain": [
       "0    284315\n",
       "1       492\n",
       "Name: Class, dtype: int64"
      ]
     },
     "execution_count": 3,
     "metadata": {},
     "output_type": "execute_result"
    }
   ],
   "source": [
    "# 查看Class那一列的数据分布，可以看到数据分布极度不平衡\n",
    "count_classes = pd.value_counts(data['Class'])\n",
    "count_classes"
   ]
  },
  {
   "cell_type": "code",
   "execution_count": 4,
   "metadata": {
    "scrolled": true
   },
   "outputs": [
    {
     "data": {
      "text/plain": [
       "Text(0, 0.5, 'Frequency')"
      ]
     },
     "execution_count": 4,
     "metadata": {},
     "output_type": "execute_result"
    },
    {
     "data": {
      "image/png": "[encoded data removed]",
      "text/plain": [
       "<Figure size 432x288 with 1 Axes>"
      ]
     },
     "metadata": {
      "needs_background": "light"
     },
     "output_type": "display_data"
    }
   ],
   "source": [
    "# 注意pd.value_counts()方法的使用，返回的Series对象可以调用plot()方法直接绘图\n",
    "count_classes.plot(kind='bar')\n",
    "\n",
    "plt.title(\"Fraud class histogram\")\n",
    "plt.xlabel(\"Class\")\n",
    "plt.ylabel(\"Frequency\")"
   ]
  },
  {
   "cell_type": "markdown",
   "metadata": {},
   "source": [
    "## 数据标准化处理"
   ]
  },
  {
   "cell_type": "code",
   "execution_count": 5,
   "metadata": {},
   "outputs": [
    {
     "data": {
      "text/html": [
       "<div>\n",
       "<style scoped>\n",
       "    .dataframe tbody tr th:only-of-type {\n",
       "        vertical-align: middle;\n",
       "    }\n",
       "\n",
       "    .dataframe tbody tr th {\n",
       "        vertical-align: top;\n",
       "    }\n",
       "\n",
       "    .dataframe thead th {\n",
       "        text-align: right;\n",
       "    }\n",
       "</style>\n",
       "<table border=\"1\" class=\"dataframe\">\n",
       "  <thead>\n",
       "    <tr style=\"text-align: right;\">\n",
       "      <th></th>\n",
       "      <th>V1</th>\n",
       "      <th>V2</th>\n",
       "      <th>V3</th>\n",
       "      <th>V4</th>\n",
       "      <th>V5</th>\n",
       "      <th>V6</th>\n",
       "      <th>V7</th>\n",
       "      <th>V8</th>\n",
       "      <th>V9</th>\n",
       "      <th>V10</th>\n",
       "      <th>...</th>\n",
       "      <th>V21</th>\n",
       "      <th>V22</th>\n",
       "      <th>V23</th>\n",
       "      <th>V24</th>\n",
       "      <th>V25</th>\n",
       "      <th>V26</th>\n",
       "      <th>V27</th>\n",
       "      <th>V28</th>\n",
       "      <th>Class</th>\n",
       "      <th>normAmount</th>\n",
       "    </tr>\n",
       "  </thead>\n",
       "  <tbody>\n",
       "    <tr>\n",
       "      <th>0</th>\n",
       "      <td>-1.359807</td>\n",
       "      <td>-0.072781</td>\n",
       "      <td>2.536347</td>\n",
       "      <td>1.378155</td>\n",
       "      <td>-0.338321</td>\n",
       "      <td>0.462388</td>\n",
       "      <td>0.239599</td>\n",
       "      <td>0.098698</td>\n",
       "      <td>0.363787</td>\n",
       "      <td>0.090794</td>\n",
       "      <td>...</td>\n",
       "      <td>-0.018307</td>\n",
       "      <td>0.277838</td>\n",
       "      <td>-0.110474</td>\n",
       "      <td>0.066928</td>\n",
       "      <td>0.128539</td>\n",
       "      <td>-0.189115</td>\n",
       "      <td>0.133558</td>\n",
       "      <td>-0.021053</td>\n",
       "      <td>0</td>\n",
       "      <td>0.244964</td>\n",
       "    </tr>\n",
       "    <tr>\n",
       "      <th>1</th>\n",
       "      <td>1.191857</td>\n",
       "      <td>0.266151</td>\n",
       "      <td>0.166480</td>\n",
       "      <td>0.448154</td>\n",
       "      <td>0.060018</td>\n",
       "      <td>-0.082361</td>\n",
       "      <td>-0.078803</td>\n",
       "      <td>0.085102</td>\n",
       "      <td>-0.255425</td>\n",
       "      <td>-0.166974</td>\n",
       "      <td>...</td>\n",
       "      <td>-0.225775</td>\n",
       "      <td>-0.638672</td>\n",
       "      <td>0.101288</td>\n",
       "      <td>-0.339846</td>\n",
       "      <td>0.167170</td>\n",
       "      <td>0.125895</td>\n",
       "      <td>-0.008983</td>\n",
       "      <td>0.014724</td>\n",
       "      <td>0</td>\n",
       "      <td>-0.342475</td>\n",
       "    </tr>\n",
       "    <tr>\n",
       "      <th>2</th>\n",
       "      <td>-1.358354</td>\n",
       "      <td>-1.340163</td>\n",
       "      <td>1.773209</td>\n",
       "      <td>0.379780</td>\n",
       "      <td>-0.503198</td>\n",
       "      <td>1.800499</td>\n",
       "      <td>0.791461</td>\n",
       "      <td>0.247676</td>\n",
       "      <td>-1.514654</td>\n",
       "      <td>0.207643</td>\n",
       "      <td>...</td>\n",
       "      <td>0.247998</td>\n",
       "      <td>0.771679</td>\n",
       "      <td>0.909412</td>\n",
       "      <td>-0.689281</td>\n",
       "      <td>-0.327642</td>\n",
       "      <td>-0.139097</td>\n",
       "      <td>-0.055353</td>\n",
       "      <td>-0.059752</td>\n",
       "      <td>0</td>\n",
       "      <td>1.160686</td>\n",
       "    </tr>\n",
       "    <tr>\n",
       "      <th>3</th>\n",
       "      <td>-0.966272</td>\n",
       "      <td>-0.185226</td>\n",
       "      <td>1.792993</td>\n",
       "      <td>-0.863291</td>\n",
       "      <td>-0.010309</td>\n",
       "      <td>1.247203</td>\n",
       "      <td>0.237609</td>\n",
       "      <td>0.377436</td>\n",
       "      <td>-1.387024</td>\n",
       "      <td>-0.054952</td>\n",
       "      <td>...</td>\n",
       "      <td>-0.108300</td>\n",
       "      <td>0.005274</td>\n",
       "      <td>-0.190321</td>\n",
       "      <td>-1.175575</td>\n",
       "      <td>0.647376</td>\n",
       "      <td>-0.221929</td>\n",
       "      <td>0.062723</td>\n",
       "      <td>0.061458</td>\n",
       "      <td>0</td>\n",
       "      <td>0.140534</td>\n",
       "    </tr>\n",
       "    <tr>\n",
       "      <th>4</th>\n",
       "      <td>-1.158233</td>\n",
       "      <td>0.877737</td>\n",
       "      <td>1.548718</td>\n",
       "      <td>0.403034</td>\n",
       "      <td>-0.407193</td>\n",
       "      <td>0.095921</td>\n",
       "      <td>0.592941</td>\n",
       "      <td>-0.270533</td>\n",
       "      <td>0.817739</td>\n",
       "      <td>0.753074</td>\n",
       "      <td>...</td>\n",
       "      <td>-0.009431</td>\n",
       "      <td>0.798278</td>\n",
       "      <td>-0.137458</td>\n",
       "      <td>0.141267</td>\n",
       "      <td>-0.206010</td>\n",
       "      <td>0.502292</td>\n",
       "      <td>0.219422</td>\n",
       "      <td>0.215153</td>\n",
       "      <td>0</td>\n",
       "      <td>-0.073403</td>\n",
       "    </tr>\n",
       "  </tbody>\n",
       "</table>\n",
       "<p>5 rows × 30 columns</p>\n",
       "</div>"
      ],
      "text/plain": [
       "         V1        V2        V3        V4        V5        V6        V7  \\\n",
       "0 -1.359807 -0.072781  2.536347  1.378155 -0.338321  0.462388  0.239599   \n",
       "1  1.191857  0.266151  0.166480  0.448154  0.060018 -0.082361 -0.078803   \n",
       "2 -1.358354 -1.340163  1.773209  0.379780 -0.503198  1.800499  0.791461   \n",
       "3 -0.966272 -0.185226  1.792993 -0.863291 -0.010309  1.247203  0.237609   \n",
       "4 -1.158233  0.877737  1.548718  0.403034 -0.407193  0.095921  0.592941   \n",
       "\n",
       "         V8        V9       V10  ...       V21       V22       V23       V24  \\\n",
       "0  0.098698  0.363787  0.090794  ... -0.018307  0.277838 -0.110474  0.066928   \n",
       "1  0.085102 -0.255425 -0.166974  ... -0.225775 -0.638672  0.101288 -0.339846   \n",
       "2  0.247676 -1.514654  0.207643  ...  0.247998  0.771679  0.909412 -0.689281   \n",
       "3  0.377436 -1.387024 -0.054952  ... -0.108300  0.005274 -0.190321 -1.175575   \n",
       "4 -0.270533  0.817739  0.753074  ... -0.009431  0.798278 -0.137458  0.141267   \n",
       "\n",
       "        V25       V26       V27       V28  Class  normAmount  \n",
       "0  0.128539 -0.189115  0.133558 -0.021053      0    0.244964  \n",
       "1  0.167170  0.125895 -0.008983  0.014724      0   -0.342475  \n",
       "2 -0.327642 -0.139097 -0.055353 -0.059752      0    1.160686  \n",
       "3  0.647376 -0.221929  0.062723  0.061458      0    0.140534  \n",
       "4 -0.206010  0.502292  0.219422  0.215153      0   -0.073403  \n",
       "\n",
       "[5 rows x 30 columns]"
      ]
     },
     "execution_count": 5,
     "metadata": {},
     "output_type": "execute_result"
    }
   ],
   "source": [
    "from sklearn.preprocessing import StandardScaler\n",
    "\n",
    "# 使用Z-score算法对Amount那一列进行标准化，即先减均值再除以标准差\n",
    "# 注意.values返回的是一个一维数组，使用reshape(-1,1)可以将其转换成列向量(列向量是二维数组)\n",
    "# 由于V1到V28已经进行过标准化，因此这里只标准化了Amount这一列，但实际上应该对所有列都进行标准化\n",
    "data['normAmount'] = StandardScaler().fit_transform(data['Amount'].values.reshape(-1, 1))\n",
    "\n",
    "# 删除没有用的列\n",
    "data = data.drop(['Time','Amount'], axis=1)\n",
    "data.head()"
   ]
  },
  {
   "cell_type": "markdown",
   "metadata": {},
   "source": [
    "## 下采样(欠采样)方案\n",
    "\n",
    "下采样(欠采样)就是从多数集中选出一部分数据，与少数集组合成一个新的数据集"
   ]
  },
  {
   "cell_type": "code",
   "execution_count": 6,
   "metadata": {},
   "outputs": [
    {
     "data": {
      "text/plain": [
       "Int64Index([   541,    623,   4920,   6108,   6329,   6331,   6334,   6336,\n",
       "              6338,   6427,\n",
       "            ...\n",
       "            274382, 274475, 275992, 276071, 276864, 279863, 280143, 280149,\n",
       "            281144, 281674],\n",
       "           dtype='int64', length=492)"
      ]
     },
     "execution_count": 6,
     "metadata": {},
     "output_type": "execute_result"
    }
   ],
   "source": [
    "# 查看异常样本的行索引\n",
    "data[data.Class == 1].index"
   ]
  },
  {
   "cell_type": "code",
   "execution_count": 7,
   "metadata": {},
   "outputs": [
    {
     "name": "stdout",
     "output_type": "stream",
     "text": [
      "正常样本所占整体比例:  0.5\n",
      "异常样本所占整体比例:  0.5\n",
      "下采样策略总体样本数量:  984\n"
     ]
    }
   ],
   "source": [
    "# 这里的下采样(欠采样)就是从多数集中选出一部分数据，与少数集组合成一个新的数据集，\n",
    "# 这样数据的分布就会平衡\n",
    "\n",
    "\n",
    "# 得到所有Class为1的行的数量\n",
    "number_records_fraud = len(data[data.Class == 1]) \n",
    "\n",
    "# 得到所有异常样本(Class为1)的行索引，使用data.Class可以直接获取Class那一列\n",
    "fraud_indices = data[data.Class == 1].index\n",
    "\n",
    "# 得到所有正常样本的行索引\n",
    "normal_indices = data[data.Class == 0].index\n",
    "\n",
    "# 在正常样本中随机采样出与异常样本相同个样本(具体用法查API)，replace参数表示是否可以重复选择一个元素\n",
    "random_normal_indices = np.random.choice(normal_indices, number_records_fraud, replace = False)\n",
    "\n",
    "# 把正常样本和异常样本的索引合并\n",
    "under_sample_indices = np.concatenate([fraud_indices, random_normal_indices])\n",
    "\n",
    "# 根据索引，得到所有下采样的样本，此时样本的分布就已经平衡\n",
    "under_sample_data = data.iloc[under_sample_indices,:]\n",
    "\n",
    "# X是每个样本的特征(即除了标签那一列，其他列都是特征)，y是每个样本的标签\n",
    "X_undersample = under_sample_data.iloc[:, under_sample_data.columns != 'Class']\n",
    "y_undersample = under_sample_data.iloc[:, under_sample_data.columns == 'Class']\n",
    "\n",
    "# 下采样 样本比例\n",
    "print(\"正常样本所占整体比例: \", len(under_sample_data[under_sample_data.Class == 0]) / len(under_sample_data))\n",
    "print(\"异常样本所占整体比例: \", len(under_sample_data[under_sample_data.Class == 1]) / len(under_sample_data))\n",
    "print(\"下采样策略总体样本数量: \", len(under_sample_data))"
   ]
  },
  {
   "cell_type": "markdown",
   "metadata": {},
   "source": [
    "## 数据集划分"
   ]
  },
  {
   "cell_type": "code",
   "execution_count": 8,
   "metadata": {},
   "outputs": [
    {
     "data": {
      "text/plain": [
       "array([ True,  True,  True,  True,  True,  True,  True,  True,  True,\n",
       "        True,  True,  True,  True,  True,  True,  True,  True,  True,\n",
       "        True,  True,  True,  True,  True,  True,  True,  True,  True,\n",
       "        True, False,  True])"
      ]
     },
     "execution_count": 8,
     "metadata": {},
     "output_type": "execute_result"
    }
   ],
   "source": [
    "from sklearn.model_selection import train_test_split\n",
    "\n",
    "# 这里使用了布尔索引，用于选取列\n",
    "X = data.iloc[:, data.columns != 'Class']\n",
    "y = data.iloc[:, data.columns == 'Class']\n",
    "\n",
    "data.columns != 'Class'"
   ]
  },
  {
   "cell_type": "code",
   "execution_count": 9,
   "metadata": {},
   "outputs": [
    {
     "name": "stdout",
     "output_type": "stream",
     "text": [
      "原始训练集包含样本数量:  199364\n",
      "原始测试集包含样本数量:  85443\n",
      "原始样本总数:  284807\n",
      "\n",
      "下采样训练集包含样本数量:  688\n",
      "下采样测试集包含样本数量:  296\n",
      "下采样样本总数:  984\n"
     ]
    }
   ],
   "source": [
    "# 对原始数据集进行划分(即分布不平衡的那个数据集)\n",
    "# test_size是测试集的比例，random_state是随机数种子\n",
    "X_train, X_test, y_train, y_test = \\\n",
    "    train_test_split(X, y, test_size = 0.3, random_state = 0)\n",
    "\n",
    "print(\"原始训练集包含样本数量: \", len(X_train))\n",
    "print(\"原始测试集包含样本数量: \", len(X_test))\n",
    "print(\"原始样本总数: \", len(X_train) + len(X_test))\n",
    "\n",
    "# 对下采样数据集进行划分\n",
    "# 注意这里的X_test_undersample和y_test_undersample是不能用来作为模型的测试数据的\n",
    "# 因为下采样的数据集中正常样本和异常样本的比例是接近1:1的，然而实际的数据集中这两类样本数量的比例\n",
    "# 并不是1:1，因此在对模型进行测试的时候需要使用上面的X_test和y_test进行测试，不能使用\n",
    "# X_test_undersample和y_test_undersample，否则模型的准确率会比实际偏高\n",
    "# 这里把X_test_undersample和y_test_undersample划分出来的目的是为了与实际情况做对比\n",
    "# 这行代码过长，使用了续行符\n",
    "X_train_undersample, X_test_undersample, y_train_undersample, y_test_undersample = \\\n",
    "    train_test_split(X_undersample, y_undersample, test_size = 0.3, random_state = 0)\n",
    "\n",
    "print(\"\")\n",
    "print(\"下采样训练集包含样本数量: \", len(X_train_undersample))\n",
    "print(\"下采样测试集包含样本数量: \", len(X_test_undersample))\n",
    "print(\"下采样样本总数: \", len(X_train_undersample)+len(X_test_undersample))"
   ]
  },
  {
   "cell_type": "code",
   "execution_count": 10,
   "metadata": {},
   "outputs": [
    {
     "name": "stdout",
     "output_type": "stream",
     "text": [
      "<class 'pandas.core.frame.DataFrame'>\n"
     ]
    },
    {
     "data": {
      "text/plain": [
       "(688, 1)"
      ]
     },
     "execution_count": 10,
     "metadata": {},
     "output_type": "execute_result"
    }
   ],
   "source": [
    "# 注意这是一个二维数组(列向量)，而不是一维数组\n",
    "print(type(y_train_undersample))\n",
    "y_train_undersample.shape"
   ]
  },
  {
   "cell_type": "markdown",
   "metadata": {},
   "source": [
    "## 逻辑回归模型"
   ]
  },
  {
   "cell_type": "code",
   "execution_count": 11,
   "metadata": {},
   "outputs": [],
   "source": [
    "from sklearn.linear_model import LogisticRegression\n",
    "from sklearn.model_selection import KFold, cross_val_score\n",
    "from sklearn.metrics import confusion_matrix, recall_score, classification_report \n",
    "from sklearn.model_selection import cross_val_predict"
   ]
  },
  {
   "cell_type": "code",
   "execution_count": 12,
   "metadata": {},
   "outputs": [],
   "source": [
    "# 手动实现交叉验证，实际上可以使用sklearn中的API\n",
    "# x_train_data, y_train_data都是DataFrame对象\n",
    "def printing_Kfold_scores(x_train_data, y_train_data):\n",
    "    \n",
    "    # K折交叉验证，shuffle表示是否在划分前对数据进行洗牌\n",
    "    fold = KFold(5, shuffle=False) \n",
    "\n",
    "    # 定义不同的正则化惩罚力度，即λ的大小\n",
    "    c_param_range = [0.01, 0.1, 1, 10, 100]\n",
    "    \n",
    "    # 创建一个用于保存结果的表格, index和columns参数分别定义行索引和列索引\n",
    "    results_table = pd.DataFrame(index = range(len(c_param_range)), \n",
    "                                 columns = ['C_parameter','Mean recall score'])\n",
    "    \n",
    "    results_table['C_parameter'] = c_param_range # 赋值\n",
    "    \n",
    "    j = 0 # j用于记录索引，下面会用到\n",
    "    \n",
    "    # 遍历不同的参数\n",
    "    for c_param in c_param_range:\n",
    "        print('-------------------------------------------')\n",
    "        print('正则化惩罚力度: ', c_param)\n",
    "        print('-------------------------------------------')\n",
    "        print('')\n",
    "\n",
    "        # 用于保存交叉验证过程中得到的召回率\n",
    "        recall_accs = []\n",
    "        \n",
    "        # fold.split()方法返回的是很多个二元组，二元组中的数据类型是列表，\n",
    "        # 第一个列表是训练集中样本的下标，第二个列表是验证集中样本的下标\n",
    "        \n",
    "        # iteration是枚举的下标，默认从0开始，indices就是fold.split()方法的返回的二元组\n",
    "        # k-fold表示K折的交叉验证，这里会得到两个索引集合: \n",
    "        # 训练集 = indices[0], 验证集 = indices[1]\n",
    "        \n",
    "        # 这个for循环在执行交叉验证，循环次数就是K折大小\n",
    "        for iteration, indices in enumerate(fold.split(x_train_data)): \n",
    "\n",
    "            # 指定算法模型，并且给定参数\n",
    "            lr = LogisticRegression(C = c_param, penalty = 'l2')\n",
    "\n",
    "            # 训练模型，注意索引不要给错了，训练的时候一定传入的是训练集\n",
    "            # indices[0]就是训练集中各样本的下标，第二个维度全取，即特征全取\n",
    "            \n",
    "            # 注意y_train_data是一个DataFrame对象，因此得到的数据是n * 1形状，\n",
    "            # 而fit()方法对y参数的形状要求是一维数组，\n",
    "            # 因此需要调用扁平化操作将其变成一维数组(调用values属性取对应的numpy数组)\n",
    "            lr.fit(x_train_data.iloc[indices[0], :].values, \n",
    "                   y_train_data.iloc[indices[0], :].values.ravel())\n",
    "\n",
    "            # 建立好模型后，预测模型结果，这里用的就是验证集，索引为1\n",
    "            y_pred_undersample = lr.predict(x_train_data.iloc[indices[1], :].values)\n",
    "\n",
    "            # 使用sklearn提供recall_score计算召回率\n",
    "            # recall_score需要传入预测值和真实值\n",
    "            # 返回值是一个浮点数，即计算的召回率\n",
    "            recall_acc = recall_score(y_train_data.iloc[indices[1],:].values, \n",
    "                                      y_pred_undersample)\n",
    "            \n",
    "            # 一会还要算平均，所以把每一步的结果都保存\n",
    "            recall_accs.append(recall_acc)\n",
    "            \n",
    "            print('Iteration ', iteration,': 召回率 = ', recall_acc)\n",
    "        \n",
    "        # 当执行完所有的交叉验证后，计算所有召回率的平均值\n",
    "        results_table.loc[j, 'Mean recall score'] = np.mean(recall_accs)\n",
    "        j += 1\n",
    "        \n",
    "        print('')\n",
    "        print('平均召回率 ', np.mean(recall_accs))\n",
    "        print('')\n",
    "        \n",
    "    # 找到最好的参数，哪一个Recall高，自然就是最好的了\n",
    "    # 转换成32位浮点数，默认是64位，idxmax()返回的是最大值的行索引\n",
    "    best_c = results_table.loc[results_table['Mean recall score'].astype('float32').idxmax()]['C_parameter']\n",
    "    \n",
    "    # 打印最好的结果\n",
    "    print('*********************************************************************************')\n",
    "    print('效果最好的模型所选参数 = ', best_c)\n",
    "    print('*********************************************************************************')\n",
    "    \n",
    "    return best_c"
   ]
  },
  {
   "cell_type": "code",
   "execution_count": 13,
   "metadata": {},
   "outputs": [
    {
     "data": {
      "text/html": [
       "<div>\n",
       "<style scoped>\n",
       "    .dataframe tbody tr th:only-of-type {\n",
       "        vertical-align: middle;\n",
       "    }\n",
       "\n",
       "    .dataframe tbody tr th {\n",
       "        vertical-align: top;\n",
       "    }\n",
       "\n",
       "    .dataframe thead th {\n",
       "        text-align: right;\n",
       "    }\n",
       "</style>\n",
       "<table border=\"1\" class=\"dataframe\">\n",
       "  <thead>\n",
       "    <tr style=\"text-align: right;\">\n",
       "      <th></th>\n",
       "      <th>V1</th>\n",
       "      <th>V2</th>\n",
       "      <th>V3</th>\n",
       "      <th>V4</th>\n",
       "      <th>V5</th>\n",
       "      <th>V6</th>\n",
       "      <th>V7</th>\n",
       "      <th>V8</th>\n",
       "      <th>V9</th>\n",
       "      <th>V10</th>\n",
       "      <th>...</th>\n",
       "      <th>V20</th>\n",
       "      <th>V21</th>\n",
       "      <th>V22</th>\n",
       "      <th>V23</th>\n",
       "      <th>V24</th>\n",
       "      <th>V25</th>\n",
       "      <th>V26</th>\n",
       "      <th>V27</th>\n",
       "      <th>V28</th>\n",
       "      <th>normAmount</th>\n",
       "    </tr>\n",
       "  </thead>\n",
       "  <tbody>\n",
       "    <tr>\n",
       "      <th>6870</th>\n",
       "      <td>-1.863756</td>\n",
       "      <td>3.442644</td>\n",
       "      <td>-4.468260</td>\n",
       "      <td>2.805336</td>\n",
       "      <td>-2.118412</td>\n",
       "      <td>-2.332285</td>\n",
       "      <td>-4.261237</td>\n",
       "      <td>1.701682</td>\n",
       "      <td>-1.439396</td>\n",
       "      <td>-6.999907</td>\n",
       "      <td>...</td>\n",
       "      <td>0.360924</td>\n",
       "      <td>0.667927</td>\n",
       "      <td>-0.516242</td>\n",
       "      <td>-0.012218</td>\n",
       "      <td>0.070614</td>\n",
       "      <td>0.058504</td>\n",
       "      <td>0.304883</td>\n",
       "      <td>0.418012</td>\n",
       "      <td>0.208858</td>\n",
       "      <td>-0.349231</td>\n",
       "    </tr>\n",
       "    <tr>\n",
       "      <th>168766</th>\n",
       "      <td>-0.694843</td>\n",
       "      <td>-1.561031</td>\n",
       "      <td>0.366601</td>\n",
       "      <td>-0.002357</td>\n",
       "      <td>1.782257</td>\n",
       "      <td>-0.921492</td>\n",
       "      <td>-0.371279</td>\n",
       "      <td>-0.000760</td>\n",
       "      <td>0.451934</td>\n",
       "      <td>0.051365</td>\n",
       "      <td>...</td>\n",
       "      <td>0.540447</td>\n",
       "      <td>-0.002507</td>\n",
       "      <td>-0.272468</td>\n",
       "      <td>1.045941</td>\n",
       "      <td>0.749972</td>\n",
       "      <td>-2.519590</td>\n",
       "      <td>-0.226091</td>\n",
       "      <td>0.105807</td>\n",
       "      <td>0.183571</td>\n",
       "      <td>-0.052094</td>\n",
       "    </tr>\n",
       "    <tr>\n",
       "      <th>54332</th>\n",
       "      <td>0.603823</td>\n",
       "      <td>-0.800616</td>\n",
       "      <td>1.066029</td>\n",
       "      <td>1.469615</td>\n",
       "      <td>-1.002810</td>\n",
       "      <td>0.506706</td>\n",
       "      <td>-0.388471</td>\n",
       "      <td>0.253116</td>\n",
       "      <td>0.348466</td>\n",
       "      <td>-0.078807</td>\n",
       "      <td>...</td>\n",
       "      <td>0.352292</td>\n",
       "      <td>0.366270</td>\n",
       "      <td>0.704943</td>\n",
       "      <td>-0.262349</td>\n",
       "      <td>0.263899</td>\n",
       "      <td>0.301695</td>\n",
       "      <td>-0.269481</td>\n",
       "      <td>0.038291</td>\n",
       "      <td>0.066936</td>\n",
       "      <td>0.626302</td>\n",
       "    </tr>\n",
       "    <tr>\n",
       "      <th>214775</th>\n",
       "      <td>-0.395582</td>\n",
       "      <td>-0.751792</td>\n",
       "      <td>-1.984666</td>\n",
       "      <td>-0.203459</td>\n",
       "      <td>1.903967</td>\n",
       "      <td>-1.430289</td>\n",
       "      <td>-0.076548</td>\n",
       "      <td>-0.992260</td>\n",
       "      <td>0.756307</td>\n",
       "      <td>0.217630</td>\n",
       "      <td>...</td>\n",
       "      <td>-1.027716</td>\n",
       "      <td>1.377515</td>\n",
       "      <td>2.151787</td>\n",
       "      <td>0.189225</td>\n",
       "      <td>0.772943</td>\n",
       "      <td>-0.872443</td>\n",
       "      <td>-0.200612</td>\n",
       "      <td>0.356856</td>\n",
       "      <td>0.032113</td>\n",
       "      <td>-0.350471</td>\n",
       "    </tr>\n",
       "    <tr>\n",
       "      <th>149145</th>\n",
       "      <td>-2.405580</td>\n",
       "      <td>3.738235</td>\n",
       "      <td>-2.317843</td>\n",
       "      <td>1.367442</td>\n",
       "      <td>0.394001</td>\n",
       "      <td>1.919938</td>\n",
       "      <td>-3.106942</td>\n",
       "      <td>-10.764403</td>\n",
       "      <td>3.353525</td>\n",
       "      <td>0.369936</td>\n",
       "      <td>...</td>\n",
       "      <td>-2.140874</td>\n",
       "      <td>10.005998</td>\n",
       "      <td>-2.454964</td>\n",
       "      <td>1.684957</td>\n",
       "      <td>0.118263</td>\n",
       "      <td>-1.531380</td>\n",
       "      <td>-0.695308</td>\n",
       "      <td>-0.152502</td>\n",
       "      <td>-0.138866</td>\n",
       "      <td>-0.325283</td>\n",
       "    </tr>\n",
       "    <tr>\n",
       "      <th>...</th>\n",
       "      <td>...</td>\n",
       "      <td>...</td>\n",
       "      <td>...</td>\n",
       "      <td>...</td>\n",
       "      <td>...</td>\n",
       "      <td>...</td>\n",
       "      <td>...</td>\n",
       "      <td>...</td>\n",
       "      <td>...</td>\n",
       "      <td>...</td>\n",
       "      <td>...</td>\n",
       "      <td>...</td>\n",
       "      <td>...</td>\n",
       "      <td>...</td>\n",
       "      <td>...</td>\n",
       "      <td>...</td>\n",
       "      <td>...</td>\n",
       "      <td>...</td>\n",
       "      <td>...</td>\n",
       "      <td>...</td>\n",
       "      <td>...</td>\n",
       "    </tr>\n",
       "    <tr>\n",
       "      <th>35861</th>\n",
       "      <td>-0.824019</td>\n",
       "      <td>0.415744</td>\n",
       "      <td>2.337084</td>\n",
       "      <td>-0.476442</td>\n",
       "      <td>0.039631</td>\n",
       "      <td>0.662213</td>\n",
       "      <td>0.031629</td>\n",
       "      <td>0.427124</td>\n",
       "      <td>0.474946</td>\n",
       "      <td>-1.026717</td>\n",
       "      <td>...</td>\n",
       "      <td>-0.143169</td>\n",
       "      <td>-0.075681</td>\n",
       "      <td>-0.162744</td>\n",
       "      <td>-0.315374</td>\n",
       "      <td>-0.773780</td>\n",
       "      <td>0.265300</td>\n",
       "      <td>0.323123</td>\n",
       "      <td>0.038531</td>\n",
       "      <td>0.055159</td>\n",
       "      <td>-0.307251</td>\n",
       "    </tr>\n",
       "    <tr>\n",
       "      <th>79536</th>\n",
       "      <td>-0.264869</td>\n",
       "      <td>3.386140</td>\n",
       "      <td>-3.454997</td>\n",
       "      <td>4.367629</td>\n",
       "      <td>3.336060</td>\n",
       "      <td>-2.053918</td>\n",
       "      <td>0.256890</td>\n",
       "      <td>-2.957235</td>\n",
       "      <td>-2.855797</td>\n",
       "      <td>-2.808456</td>\n",
       "      <td>...</td>\n",
       "      <td>0.482513</td>\n",
       "      <td>-1.394504</td>\n",
       "      <td>-0.166029</td>\n",
       "      <td>-1.452081</td>\n",
       "      <td>-0.251815</td>\n",
       "      <td>1.243461</td>\n",
       "      <td>0.452787</td>\n",
       "      <td>0.132218</td>\n",
       "      <td>0.424599</td>\n",
       "      <td>-0.349231</td>\n",
       "    </tr>\n",
       "    <tr>\n",
       "      <th>18202</th>\n",
       "      <td>1.055289</td>\n",
       "      <td>0.175425</td>\n",
       "      <td>1.487191</td>\n",
       "      <td>2.670982</td>\n",
       "      <td>-0.610912</td>\n",
       "      <td>0.630311</td>\n",
       "      <td>-0.606268</td>\n",
       "      <td>0.291512</td>\n",
       "      <td>0.082534</td>\n",
       "      <td>0.438415</td>\n",
       "      <td>...</td>\n",
       "      <td>-0.156642</td>\n",
       "      <td>-0.048509</td>\n",
       "      <td>0.024591</td>\n",
       "      <td>0.061028</td>\n",
       "      <td>0.080428</td>\n",
       "      <td>0.224766</td>\n",
       "      <td>-0.015948</td>\n",
       "      <td>0.057668</td>\n",
       "      <td>0.035162</td>\n",
       "      <td>-0.295457</td>\n",
       "    </tr>\n",
       "    <tr>\n",
       "      <th>252979</th>\n",
       "      <td>-1.061943</td>\n",
       "      <td>-0.390639</td>\n",
       "      <td>1.491436</td>\n",
       "      <td>-0.846951</td>\n",
       "      <td>0.190512</td>\n",
       "      <td>-0.154870</td>\n",
       "      <td>0.645208</td>\n",
       "      <td>0.008653</td>\n",
       "      <td>0.179483</td>\n",
       "      <td>-0.325478</td>\n",
       "      <td>...</td>\n",
       "      <td>0.580289</td>\n",
       "      <td>0.290645</td>\n",
       "      <td>0.701698</td>\n",
       "      <td>0.093921</td>\n",
       "      <td>-0.317560</td>\n",
       "      <td>-0.063440</td>\n",
       "      <td>0.646382</td>\n",
       "      <td>0.074650</td>\n",
       "      <td>-0.030191</td>\n",
       "      <td>0.276069</td>\n",
       "    </tr>\n",
       "    <tr>\n",
       "      <th>145148</th>\n",
       "      <td>-0.061873</td>\n",
       "      <td>1.725846</td>\n",
       "      <td>-1.778692</td>\n",
       "      <td>-0.104265</td>\n",
       "      <td>1.045773</td>\n",
       "      <td>-1.146608</td>\n",
       "      <td>0.765274</td>\n",
       "      <td>0.088083</td>\n",
       "      <td>-0.114549</td>\n",
       "      <td>-0.982733</td>\n",
       "      <td>...</td>\n",
       "      <td>0.193413</td>\n",
       "      <td>0.140023</td>\n",
       "      <td>0.802468</td>\n",
       "      <td>-0.216425</td>\n",
       "      <td>-0.604197</td>\n",
       "      <td>-0.159995</td>\n",
       "      <td>-0.151448</td>\n",
       "      <td>0.144443</td>\n",
       "      <td>-0.121994</td>\n",
       "      <td>-0.349231</td>\n",
       "    </tr>\n",
       "  </tbody>\n",
       "</table>\n",
       "<p>688 rows × 29 columns</p>\n",
       "</div>"
      ],
      "text/plain": [
       "              V1        V2        V3        V4        V5        V6        V7  \\\n",
       "6870   -1.863756  3.442644 -4.468260  2.805336 -2.118412 -2.332285 -4.261237   \n",
       "168766 -0.694843 -1.561031  0.366601 -0.002357  1.782257 -0.921492 -0.371279   \n",
       "54332   0.603823 -0.800616  1.066029  1.469615 -1.002810  0.506706 -0.388471   \n",
       "214775 -0.395582 -0.751792 -1.984666 -0.203459  1.903967 -1.430289 -0.076548   \n",
       "149145 -2.405580  3.738235 -2.317843  1.367442  0.394001  1.919938 -3.106942   \n",
       "...          ...       ...       ...       ...       ...       ...       ...   \n",
       "35861  -0.824019  0.415744  2.337084 -0.476442  0.039631  0.662213  0.031629   \n",
       "79536  -0.264869  3.386140 -3.454997  4.367629  3.336060 -2.053918  0.256890   \n",
       "18202   1.055289  0.175425  1.487191  2.670982 -0.610912  0.630311 -0.606268   \n",
       "252979 -1.061943 -0.390639  1.491436 -0.846951  0.190512 -0.154870  0.645208   \n",
       "145148 -0.061873  1.725846 -1.778692 -0.104265  1.045773 -1.146608  0.765274   \n",
       "\n",
       "               V8        V9       V10  ...       V20        V21       V22  \\\n",
       "6870     1.701682 -1.439396 -6.999907  ...  0.360924   0.667927 -0.516242   \n",
       "168766  -0.000760  0.451934  0.051365  ...  0.540447  -0.002507 -0.272468   \n",
       "54332    0.253116  0.348466 -0.078807  ...  0.352292   0.366270  0.704943   \n",
       "214775  -0.992260  0.756307  0.217630  ... -1.027716   1.377515  2.151787   \n",
       "149145 -10.764403  3.353525  0.369936  ... -2.140874  10.005998 -2.454964   \n",
       "...           ...       ...       ...  ...       ...        ...       ...   \n",
       "35861    0.427124  0.474946 -1.026717  ... -0.143169  -0.075681 -0.162744   \n",
       "79536   -2.957235 -2.855797 -2.808456  ...  0.482513  -1.394504 -0.166029   \n",
       "18202    0.291512  0.082534  0.438415  ... -0.156642  -0.048509  0.024591   \n",
       "252979   0.008653  0.179483 -0.325478  ...  0.580289   0.290645  0.701698   \n",
       "145148   0.088083 -0.114549 -0.982733  ...  0.193413   0.140023  0.802468   \n",
       "\n",
       "             V23       V24       V25       V26       V27       V28  normAmount  \n",
       "6870   -0.012218  0.070614  0.058504  0.304883  0.418012  0.208858   -0.349231  \n",
       "168766  1.045941  0.749972 -2.519590 -0.226091  0.105807  0.183571   -0.052094  \n",
       "54332  -0.262349  0.263899  0.301695 -0.269481  0.038291  0.066936    0.626302  \n",
       "214775  0.189225  0.772943 -0.872443 -0.200612  0.356856  0.032113   -0.350471  \n",
       "149145  1.684957  0.118263 -1.531380 -0.695308 -0.152502 -0.138866   -0.325283  \n",
       "...          ...       ...       ...       ...       ...       ...         ...  \n",
       "35861  -0.315374 -0.773780  0.265300  0.323123  0.038531  0.055159   -0.307251  \n",
       "79536  -1.452081 -0.251815  1.243461  0.452787  0.132218  0.424599   -0.349231  \n",
       "18202   0.061028  0.080428  0.224766 -0.015948  0.057668  0.035162   -0.295457  \n",
       "252979  0.093921 -0.317560 -0.063440  0.646382  0.074650 -0.030191    0.276069  \n",
       "145148 -0.216425 -0.604197 -0.159995 -0.151448  0.144443 -0.121994   -0.349231  \n",
       "\n",
       "[688 rows x 29 columns]"
      ]
     },
     "execution_count": 13,
     "metadata": {},
     "output_type": "execute_result"
    }
   ],
   "source": [
    "X_train_undersample"
   ]
  },
  {
   "cell_type": "markdown",
   "metadata": {},
   "source": [
    "## 交叉验证与不同参数结果"
   ]
  },
  {
   "cell_type": "code",
   "execution_count": 14,
   "metadata": {
    "scrolled": false
   },
   "outputs": [
    {
     "name": "stdout",
     "output_type": "stream",
     "text": [
      "-------------------------------------------\n",
      "正则化惩罚力度:  0.01\n",
      "-------------------------------------------\n",
      "\n",
      "Iteration  0 : 召回率 =  0.821917808219178\n",
      "Iteration  1 : 召回率 =  0.8493150684931506\n",
      "Iteration  2 : 召回率 =  0.9152542372881356\n",
      "Iteration  3 : 召回率 =  0.918918918918919\n",
      "Iteration  4 : 召回率 =  0.8787878787878788\n",
      "\n",
      "平均召回率  0.8768387823414523\n",
      "\n",
      "-------------------------------------------\n",
      "正则化惩罚力度:  0.1\n",
      "-------------------------------------------\n",
      "\n",
      "Iteration  0 : 召回率 =  0.8493150684931506\n",
      "Iteration  1 : 召回率 =  0.8767123287671232\n",
      "Iteration  2 : 召回率 =  0.9322033898305084\n",
      "Iteration  3 : 召回率 =  0.9459459459459459\n",
      "Iteration  4 : 召回率 =  0.8939393939393939\n",
      "\n",
      "平均召回率  0.8996232253952245\n",
      "\n",
      "-------------------------------------------\n",
      "正则化惩罚力度:  1\n",
      "-------------------------------------------\n",
      "\n",
      "Iteration  0 : 召回率 =  0.8493150684931506\n",
      "Iteration  1 : 召回率 =  0.8904109589041096\n",
      "Iteration  2 : 召回率 =  0.9491525423728814\n",
      "Iteration  3 : 召回率 =  0.9459459459459459\n",
      "Iteration  4 : 召回率 =  0.9242424242424242\n",
      "\n",
      "平均召回率  0.9118133879917023\n",
      "\n",
      "-------------------------------------------\n",
      "正则化惩罚力度:  10\n",
      "-------------------------------------------\n",
      "\n",
      "Iteration  0 : 召回率 =  0.863013698630137\n",
      "Iteration  1 : 召回率 =  0.8767123287671232\n",
      "Iteration  2 : 召回率 =  0.9491525423728814\n",
      "Iteration  3 : 召回率 =  0.9459459459459459\n",
      "Iteration  4 : 召回率 =  0.9242424242424242\n",
      "\n",
      "平均召回率  0.9118133879917023\n",
      "\n",
      "-------------------------------------------\n",
      "正则化惩罚力度:  100\n",
      "-------------------------------------------\n",
      "\n",
      "Iteration  0 : 召回率 =  0.863013698630137\n",
      "Iteration  1 : 召回率 =  0.8767123287671232\n",
      "Iteration  2 : 召回率 =  0.9661016949152542\n",
      "Iteration  3 : 召回率 =  0.9459459459459459\n",
      "Iteration  4 : 召回率 =  0.9242424242424242\n",
      "\n",
      "平均召回率  0.9152032185001768\n",
      "\n",
      "*********************************************************************************\n",
      "效果最好的模型所选参数 =  100.0\n",
      "*********************************************************************************\n"
     ]
    }
   ],
   "source": [
    "# 使用下采样的数据集进行交叉验证\n",
    "best_c = printing_Kfold_scores(X_train_undersample, y_train_undersample)"
   ]
  },
  {
   "cell_type": "markdown",
   "metadata": {},
   "source": [
    "## 混淆矩阵"
   ]
  },
  {
   "cell_type": "code",
   "execution_count": 15,
   "metadata": {},
   "outputs": [],
   "source": [
    "# 绘制混淆矩阵的模板代码，这部分代码直接当成模板就好\n",
    "\n",
    "# cm是需要传入的confusion matrix，是sklearn工具包中的confusion_matrix()对象\n",
    "# classes是列表类型，表示每个类别的标签\n",
    "def plot_confusion_matrix(cm, classes, title='Confusion matrix', cmap=plt.cm.Blues):\n",
    "    import itertools\n",
    "    \n",
    "    plt.imshow(cm, interpolation='nearest', cmap=cmap)\n",
    "    plt.title(title)\n",
    "    plt.colorbar()\n",
    "    tick_marks = np.arange(len(classes))\n",
    "    plt.xticks(tick_marks, classes, rotation=0)\n",
    "    plt.yticks(tick_marks, classes)\n",
    "\n",
    "    thresh = cm.max() / 2.\n",
    "    for i, j in itertools.product(range(cm.shape[0]), range(cm.shape[1])):\n",
    "        plt.text(j, i, cm[i, j], horizontalalignment=\"center\", \n",
    "                 color=\"white\" if cm[i, j] > thresh else \"black\")\n",
    "\n",
    "    plt.tight_layout()\n",
    "    plt.ylabel('True label')\n",
    "    plt.xlabel('Predicted label')"
   ]
  },
  {
   "cell_type": "markdown",
   "metadata": {},
   "source": [
    "## 下采样方案在构造的测试集中的结果"
   ]
  },
  {
   "cell_type": "code",
   "execution_count": 16,
   "metadata": {},
   "outputs": [
    {
     "name": "stdout",
     "output_type": "stream",
     "text": [
      "召回率:  0.9047619047619048\n",
      "精确率:  0.9432624113475178\n"
     ]
    },
    {
     "data": {
      "image/png": "[encoded data removed]",
      "text/plain": [
       "<Figure size 432x288 with 2 Axes>"
      ]
     },
     "metadata": {
      "needs_background": "light"
     },
     "output_type": "display_data"
    }
   ],
   "source": [
    "# 使用最好的参数创建模型对象\n",
    "lr = LogisticRegression(C = best_c, penalty = 'l2')\n",
    "\n",
    "# 使用下采样数据集训练模型\n",
    "lr.fit(X_train_undersample, y_train_undersample.values.ravel())\n",
    "\n",
    "# 注意这里拿X_test_undersample作为测试数据，只是为了做对比，\n",
    "# 实际上应该使用X_test作为测试集\n",
    "y_pred_undersample = lr.predict(X_test_undersample.values)\n",
    "\n",
    "# 使用sklea提供的confusion_matrix()生成混淆矩阵\n",
    "cnf_matrix = confusion_matrix(y_test_undersample, y_pred_undersample)\n",
    "\n",
    "print(\"召回率: \", cnf_matrix[1,1] / (cnf_matrix[1,0] + cnf_matrix[1,1]))\n",
    "print(\"精确率: \", cnf_matrix[1,1] / (cnf_matrix[0,1] + cnf_matrix[1,1]))\n",
    "\n",
    "# 绘制混淆矩阵\n",
    "class_names = [0,1]\n",
    "plt.figure()\n",
    "plot_confusion_matrix(cnf_matrix, classes=class_names, title='Confusion matrix')\n",
    "plt.show()"
   ]
  },
  {
   "cell_type": "markdown",
   "metadata": {},
   "source": [
    "从结果上看，模型在下采样数据集中的准确率似乎不错..."
   ]
  },
  {
   "cell_type": "markdown",
   "metadata": {},
   "source": [
    "## 下采样方案在原始测试集中的结果"
   ]
  },
  {
   "cell_type": "code",
   "execution_count": 17,
   "metadata": {},
   "outputs": [
    {
     "name": "stdout",
     "output_type": "stream",
     "text": [
      "召回率:  0.9115646258503401\n",
      "精确率:  0.05171748359706677\n"
     ]
    },
    {
     "data": {
      "image/png": "[encoded data removed]",
      "text/plain": [
       "<Figure size 432x288 with 2 Axes>"
      ]
     },
     "metadata": {
      "needs_background": "light"
     },
     "output_type": "display_data"
    }
   ],
   "source": [
    "lr = LogisticRegression(C = best_c, penalty = 'l2')\n",
    "\n",
    "lr.fit(X_train_undersample, y_train_undersample.values.ravel())\n",
    "\n",
    "# 使用真正的测试集进行预测\n",
    "y_pred = lr.predict(X_test.values)\n",
    "\n",
    "cnf_matrix = confusion_matrix(y_test,y_pred)\n",
    "\n",
    "# 可以看到召回率和之前相差不大，但是精确率(即预测正确的正类占所有预测为正的比例)几乎为0\n",
    "print(\"召回率: \", cnf_matrix[1,1] / (cnf_matrix[1,0] + cnf_matrix[1,1]))\n",
    "print(\"精确率: \", cnf_matrix[1,1] / (cnf_matrix[0,1] + cnf_matrix[1,1]))\n",
    "\n",
    "class_names = [0,1]\n",
    "plt.figure()\n",
    "plot_confusion_matrix(cnf_matrix, classes=class_names, title='Confusion matrix')\n",
    "plt.show()"
   ]
  },
  {
   "cell_type": "markdown",
   "metadata": {},
   "source": [
    "## 阈值对结果的影响"
   ]
  },
  {
   "cell_type": "code",
   "execution_count": 18,
   "metadata": {
    "scrolled": false
   },
   "outputs": [
    {
     "name": "stdout",
     "output_type": "stream",
     "text": [
      "[[9.53e-01 4.74e-02]\n",
      " [4.52e-01 5.48e-01]\n",
      " [7.71e-11 1.00e+00]\n",
      " [9.89e-01 1.11e-02]\n",
      " [2.19e-02 9.78e-01]\n",
      " [9.71e-12 1.00e+00]\n",
      " [3.69e-03 9.96e-01]\n",
      " [9.95e-01 5.41e-03]\n",
      " [7.10e-01 2.90e-01]\n",
      " [4.32e-01 5.68e-01]]\n",
      "给定阈值为: 0.1 时测试集召回率:  0.9659863945578231\n",
      "给定阈值为: 0.2 时测试集召回率:  0.9455782312925171\n",
      "给定阈值为: 0.3 时测试集召回率:  0.9319727891156463\n",
      "给定阈值为: 0.4 时测试集召回率:  0.9115646258503401\n",
      "给定阈值为: 0.5 时测试集召回率:  0.9047619047619048\n",
      "给定阈值为: 0.6 时测试集召回率:  0.891156462585034\n",
      "给定阈值为: 0.7 时测试集召回率:  0.8775510204081632\n",
      "给定阈值为: 0.8 时测试集召回率:  0.8571428571428571\n",
      "给定阈值为: 0.9 时测试集召回率:  0.8503401360544217\n"
     ]
    },
    {
     "data": {
      "image/png": "[encoded data removed]",
      "text/plain": [
       "<Figure size 720x720 with 18 Axes>"
      ]
     },
     "metadata": {
      "needs_background": "light"
     },
     "output_type": "display_data"
    }
   ],
   "source": [
    "# 用选择好的参数进行建模\n",
    "lr = LogisticRegression(C = best_c, penalty = 'l2')\n",
    "\n",
    "# 设置打印的精度为两位小数\n",
    "np.set_printoptions(precision=2)\n",
    "\n",
    "# 训练模型，还是用下采样的数据集\n",
    "lr.fit(X_train_undersample, y_train_undersample.values.ravel())\n",
    "\n",
    "# 这里不使用predict()方法，而是使用predict_proba()方法得到预测结果的概率值\n",
    "y_pred_undersample_proba = lr.predict_proba(X_test_undersample.values)\n",
    "\n",
    "# 打印前十个样本预测的概率\n",
    "print(y_pred_undersample_proba[:10])\n",
    "\n",
    "# 指定不同的阈值\n",
    "thresholds = [0.1, 0.2, 0.3, 0.4, 0.5, 0.6, 0.7, 0.8, 0.9]\n",
    "\n",
    "plt.figure(figsize=(10, 10))\n",
    "j = 1\n",
    "\n",
    "# 用混淆矩阵来进行展示\n",
    "for i in thresholds:\n",
    "    \n",
    "    # 如果预测为标签1的概率大于阈值i，就预测为True，否则就是False\n",
    "    # 这里返回的是一个布尔数组，即False表示0，True表示1\n",
    "    y_test_predictions_high_recall = y_pred_undersample_proba[:,1] > i\n",
    "    \n",
    "    plt.subplot(3,3,j)\n",
    "    j += 1\n",
    "    \n",
    "    cnf_matrix = confusion_matrix(y_test_undersample, y_test_predictions_high_recall)\n",
    "    \n",
    "    print(\"给定阈值为:\", i, \"时测试集召回率: \", \n",
    "          cnf_matrix[1,1] / (cnf_matrix[1,0] + cnf_matrix[1,1]))\n",
    "\n",
    "    class_names = [0,1]\n",
    "    plot_confusion_matrix(cnf_matrix, classes=class_names, title='Threshold >= %s'%i)"
   ]
  },
  {
   "cell_type": "markdown",
   "metadata": {},
   "source": [
    "不同的阈值有不同的召回率，但是怎么权衡召回率和精确率，这个得看具体的业务"
   ]
  },
  {
   "cell_type": "markdown",
   "metadata": {
    "collapsed": true
   },
   "source": [
    "## SMOTE过采样"
   ]
  },
  {
   "cell_type": "code",
   "execution_count": 19,
   "metadata": {},
   "outputs": [
    {
     "data": {
      "text/plain": [
       "0         149.62\n",
       "1           2.69\n",
       "2         378.66\n",
       "3         123.50\n",
       "4          69.99\n",
       "           ...  \n",
       "284802      0.77\n",
       "284803     24.79\n",
       "284804     67.88\n",
       "284805     10.00\n",
       "284806    217.00\n",
       "Name: Amount, Length: 284807, dtype: float64"
      ]
     },
     "execution_count": 19,
     "metadata": {},
     "output_type": "execute_result"
    }
   ],
   "source": [
    "from imblearn.over_sampling import SMOTE\n",
    "\n",
    "# 重新读入数据\n",
    "credit_cards = pd.read_csv('creditcard.csv')\n",
    "\n",
    "# 注意Amount这一列没有标准化\n",
    "credit_cards[\"Amount\"]"
   ]
  },
  {
   "cell_type": "code",
   "execution_count": 20,
   "metadata": {},
   "outputs": [
    {
     "data": {
      "text/plain": [
       "0         0.244964\n",
       "1        -0.342475\n",
       "2         1.160686\n",
       "3         0.140534\n",
       "4        -0.073403\n",
       "            ...   \n",
       "284802   -0.350151\n",
       "284803   -0.254117\n",
       "284804   -0.081839\n",
       "284805   -0.313249\n",
       "284806    0.514355\n",
       "Name: Amount, Length: 284807, dtype: float64"
      ]
     },
     "execution_count": 20,
     "metadata": {},
     "output_type": "execute_result"
    }
   ],
   "source": [
    "# 数据标准化\n",
    "credit_cards[\"Amount\"] = \\\n",
    "    StandardScaler().fit_transform(credit_cards[\"Amount\"].values.reshape(-1, 1))\n",
    "\n",
    "credit_cards[\"Amount\"]"
   ]
  },
  {
   "cell_type": "code",
   "execution_count": 21,
   "metadata": {},
   "outputs": [
    {
     "name": "stdout",
     "output_type": "stream",
     "text": [
      "Index(['Time', 'V1', 'V2', 'V3', 'V4', 'V5', 'V6', 'V7', 'V8', 'V9', 'V10',\n",
      "       'V11', 'V12', 'V13', 'V14', 'V15', 'V16', 'V17', 'V18', 'V19', 'V20',\n",
      "       'V21', 'V22', 'V23', 'V24', 'V25', 'V26', 'V27', 'V28', 'Amount',\n",
      "       'Class'],\n",
      "      dtype='object')\n",
      "(284807, 29)\n",
      "(284807,)\n"
     ]
    }
   ],
   "source": [
    "columns = credit_cards.columns\n",
    "print(columns)\n",
    "\n",
    "features = credit_cards.drop([\"Class\", \"Time\"], axis=1)\n",
    "labels = credit_cards['Class'] \n",
    "\n",
    "print(features.shape)\n",
    "print(labels.shape)"
   ]
  },
  {
   "cell_type": "code",
   "execution_count": 22,
   "metadata": {},
   "outputs": [],
   "source": [
    "# 划分数据集\n",
    "features_train, features_test, labels_train, labels_test = \\\n",
    "    train_test_split(features, labels, test_size=0.3, random_state=0)"
   ]
  },
  {
   "cell_type": "markdown",
   "metadata": {},
   "source": [
    "基于SMOTE算法来进行样本生成，这样正例和负例样本数量就是一致的了"
   ]
  },
  {
   "cell_type": "code",
   "execution_count": 23,
   "metadata": {},
   "outputs": [
    {
     "name": "stdout",
     "output_type": "stream",
     "text": [
      "(398038, 29)\n",
      "<class 'pandas.core.frame.DataFrame'>\n",
      "(398038,)\n",
      "<class 'pandas.core.series.Series'>\n"
     ]
    }
   ],
   "source": [
    "oversampler = SMOTE(random_state=0)\n",
    "\n",
    "# 根据原始数据进行过采样，默认情况下构造出的数据中正例和负例一样多\n",
    "os_features, os_labels = oversampler.fit_resample(features_train, labels_train)\n",
    "\n",
    "print(os_features.shape)\n",
    "print(type(os_features))\n",
    "\n",
    "print(os_labels.shape)\n",
    "print(type(os_labels))"
   ]
  },
  {
   "cell_type": "code",
   "execution_count": 24,
   "metadata": {},
   "outputs": [
    {
     "data": {
      "text/plain": [
       "199019"
      ]
     },
     "execution_count": 24,
     "metadata": {},
     "output_type": "execute_result"
    }
   ],
   "source": [
    "# 训练集样本数量\n",
    "len(os_labels[os_labels==1])"
   ]
  },
  {
   "cell_type": "code",
   "execution_count": 25,
   "metadata": {},
   "outputs": [
    {
     "name": "stdout",
     "output_type": "stream",
     "text": [
      "-------------------------------------------\n",
      "正则化惩罚力度:  0.01\n",
      "-------------------------------------------\n",
      "\n",
      "Iteration  0 : 召回率 =  0.9285714285714286\n",
      "Iteration  1 : 召回率 =  0.912\n",
      "Iteration  2 : 召回率 =  0.9134294385432473\n",
      "Iteration  3 : 召回率 =  0.897973796274197\n",
      "Iteration  4 : 召回率 =  0.8983129624279272\n",
      "\n",
      "平均召回率  0.91005752516336\n",
      "\n",
      "-------------------------------------------\n",
      "正则化惩罚力度:  0.1\n",
      "-------------------------------------------\n",
      "\n",
      "Iteration  0 : 召回率 =  0.9285714285714286\n",
      "Iteration  1 : 召回率 =  0.92\n",
      "Iteration  2 : 召回率 =  0.9151745068285281\n",
      "Iteration  3 : 召回率 =  0.8989536096071954\n",
      "Iteration  4 : 召回率 =  0.8990541032823747\n",
      "\n",
      "平均召回率  0.9123507296579053\n",
      "\n",
      "-------------------------------------------\n",
      "正则化惩罚力度:  1\n",
      "-------------------------------------------\n",
      "\n",
      "Iteration  0 : 召回率 =  0.9285714285714286\n",
      "Iteration  1 : 召回率 =  0.92\n",
      "Iteration  2 : 召回率 =  0.9155538694992412\n",
      "Iteration  3 : 召回率 =  0.8992550906327333\n",
      "Iteration  4 : 召回率 =  0.8992927757609256\n",
      "\n",
      "平均召回率  0.9125346328928657\n",
      "\n",
      "-------------------------------------------\n",
      "正则化惩罚力度:  10\n",
      "-------------------------------------------\n",
      "\n",
      "Iteration  0 : 召回率 =  0.9285714285714286\n",
      "Iteration  1 : 召回率 =  0.92\n",
      "Iteration  2 : 召回率 =  0.9156044511886697\n",
      "Iteration  3 : 召回率 =  0.8992676523421307\n",
      "Iteration  4 : 召回率 =  0.8993807077267074\n",
      "\n",
      "平均召回率  0.9125648479657873\n",
      "\n",
      "-------------------------------------------\n",
      "正则化惩罚力度:  100\n",
      "-------------------------------------------\n",
      "\n",
      "Iteration  0 : 召回率 =  0.9285714285714286\n",
      "Iteration  1 : 召回率 =  0.92\n",
      "Iteration  2 : 召回率 =  0.9156044511886697\n",
      "Iteration  3 : 召回率 =  0.8992676523421307\n",
      "Iteration  4 : 召回率 =  0.8993807077267074\n",
      "\n",
      "平均召回率  0.9125648479657873\n",
      "\n",
      "*********************************************************************************\n",
      "效果最好的模型所选参数 =  10.0\n",
      "*********************************************************************************\n"
     ]
    }
   ],
   "source": [
    "# 选择最好的惩罚力度, 注意os_labels是Series类型，需要转换成DataFrame类型\n",
    "os_labels = pd.DataFrame(os_labels)\n",
    "best_c = printing_Kfold_scores(os_features, os_labels)"
   ]
  },
  {
   "cell_type": "code",
   "execution_count": 26,
   "metadata": {},
   "outputs": [
    {
     "name": "stdout",
     "output_type": "stream",
     "text": [
      "召回率:  0.9183673469387755\n",
      "精确率:  0.06037567084078712\n"
     ]
    },
    {
     "data": {
      "image/png": "[encoded data removed]",
      "text/plain": [
       "<Figure size 432x288 with 2 Axes>"
      ]
     },
     "metadata": {
      "needs_background": "light"
     },
     "output_type": "display_data"
    }
   ],
   "source": [
    "# 这回使用过采样的数据集训练模型\n",
    "lr = LogisticRegression(C = best_c, penalty = 'l2')\n",
    "\n",
    "lr.fit(os_features, os_labels.values.ravel())\n",
    "\n",
    "# 但是预测时使用原始的测试集\n",
    "y_pred = lr.predict(features_test.values)\n",
    "\n",
    "# 计算混淆矩阵\n",
    "cnf_matrix = confusion_matrix(labels_test, y_pred)\n",
    "np.set_printoptions(precision=2)\n",
    "\n",
    "print(\"召回率: \", cnf_matrix[1,1] / (cnf_matrix[1,0]+cnf_matrix[1,1]))\n",
    "print(\"精确率: \", cnf_matrix[1,1] / (cnf_matrix[0,1] + cnf_matrix[1,1]))\n",
    "\n",
    "class_names = [0,1]\n",
    "plt.figure()\n",
    "plot_confusion_matrix(cnf_matrix, classes=class_names, title='Confusion matrix')\n",
    "plt.show()"
   ]
  },
  {
   "cell_type": "markdown",
   "metadata": {},
   "source": [
    "可以看到模型的精确率与使用下采样数据集进行训练时相比有一点点提升，但效果依然不好"
   ]
  },
  {
   "cell_type": "markdown",
   "metadata": {
    "collapsed": true
   },
   "source": [
    "### 项目总结\n",
    "\n",
    "（1）在此项目中，我们首选对数据进行了观察，发现了其中样本不均衡的问题，其实我们做任务工作之前都一定要先进行数据检查，看看数据有什么问题，针对这些问题来选择解决方案。\n",
    "\n",
    "（2）这里我们提出了两种方法，下采样和过采样，两条路线来进行对比实验，任何实际问题来了之后，我们都不会一条路走到黑的，没有对比就没有伤害，通常都会得到一个基础模型，然后对各种方法进行对比，找到最合适的，所以在任务开始之前，一定得多动脑筋多一手准备，得到的结果才有可选择的余地。\n",
    "\n",
    "（3）在建模之前，需要对数据进行各种预处理的操作，比如数据标准化，缺失值填充等，这些都是必要操作，由于数据本身已经给定了特征，此处我们还没有提到特征工程这个概念，后续实战中我们会逐步引入，其实数据预处理的工作是整个任务中最为最重也是最苦的一个阶段，数据处理的好不好对结果的影响是最大的。\n",
    "\n",
    "（4）先选好评估方法，再进行建模。建模的目的就是为了得到结果，但是我们不可能一次就得到最好的结果，肯定要尝试很多次，所以一定得有一个合适的评估方法，可以用这些通用的，比如Recall，准确率等，也可以根据实际问题自己指定评估指标。\n",
    "\n",
    "（5）选择合适的算法，这里我们使用的是逻辑回归，也详细分析了其中的细节，这是因为我们刚刚讲解完逻辑回归的原理就拿它来练手了，之后我们还会讲解其他算法，并不一定非要用逻辑回归来完成这个任务，其他算法可能效果会更好。但是有一点我希望大家能够理解就是在机器学习中并不是越复杂的算法越实用，恰恰相反，越简单的算法反而应用的越广泛。逻辑回归就是其中一个典型的代表了，简单实用，所以任何分类问题都可以把逻辑回归当做一个待比较的基础模型了。\n",
    "\n",
    "（6）模型的调参也是很重要的，之前我们通过实验也发现了不同的参数可能会对结果产生较大的影响，这一步也是必须的，后续实战内容我们还会来强调调参的细节，这里就简单概述一下了。对于参数我建立大家在使用工具包的时候先看看其API文档，知道每一个参数的意义，再来实验选择合适的参数值。\n",
    "\n",
    "（7）得到的结果一定要和实际任务结合在一起，有时候虽然得到的结果指标还不错，但是实际应用却成了问题，所以测试环节也是必不可少的。到此，这个项目就给大家介绍到这里了，在实践中学习才能成长的更快，建议大家一定使用提供的Notebook代码文件来自己完成一遍上述操作。"
   ]
  }
 ],
 "metadata": {
  "anaconda-cloud": {},
  "interpreter": {
   "hash": "620f9160e69ea6258424bf483d40dfc161c3b92e1e08fbd307109fada26732c0"
  },
  "kernelspec": {
   "display_name": "Python [conda env:PolicyGraph] *",
   "language": "python",
   "name": "python3"
  },
  "language_info": {
   "codemirror_mode": {
    "name": "ipython",
    "version": 3
   },
   "file_extension": ".py",
   "mimetype": "text/x-python",
   "name": "python",
   "nbconvert_exporter": "python",
   "pygments_lexer": "ipython3",
   "version": "3.8.12"
  }
 },
 "nbformat": 4,
 "nbformat_minor": 1
}
